{
 "cells": [
  {
   "cell_type": "markdown",
   "metadata": {},
   "source": [
    "# Data Structures & Algorithm - Amazon Order Shipping Project"
   ]
  },
  {
   "cell_type": "markdown",
   "metadata": {},
   "source": [
    "Data Structure concept of Priority Queue was employed to arrange the Order of Product delivery of customers on the basis of their Prime Subscription."
   ]
  },
  {
   "cell_type": "markdown",
   "metadata": {},
   "source": [
    "### submitted by: Anurag Sen (as5864@srmist.edu.in) "
   ]
  },
  {
   "cell_type": "markdown",
   "metadata": {},
   "source": [
    "User_Details - \n",
    "1. User ID\n",
    "2. Name\n",
    "3. E-mail Address\n",
    "4. isPrime categorisation (1 if non-Prime; 0 if Prime)\n",
    "5. details on Order_Cart."
   ]
  },
  {
   "cell_type": "markdown",
   "metadata": {},
   "source": [
    "### • User_ID Generation "
   ]
  },
  {
   "cell_type": "code",
   "execution_count": 64,
   "metadata": {},
   "outputs": [],
   "source": [
    "import string\n",
    "import random\n",
    "\n",
    "def generate_id():\n",
    "    id1 = ''\n",
    "    id2 = ''\n",
    "    p1 = list(string.ascii_letters)\n",
    "    p2 = list(string.digits)\n",
    "\n",
    "    for i in range(2):\n",
    "        id1 += random.choice(p1)\n",
    "    for j in range(4):\n",
    "        id2 += random.choice(p2)\n",
    "    uid = id1+id2\n",
    "    return uid\n",
    "    \n",
    "#generate_id()"
   ]
  },
  {
   "cell_type": "markdown",
   "metadata": {},
   "source": [
    "### User Registration and Order Placing "
   ]
  },
  {
   "cell_type": "code",
   "execution_count": 65,
   "metadata": {},
   "outputs": [],
   "source": [
    "class Amazon:\n",
    "    def __init__(self):\n",
    "        self.uid = None\n",
    "        self.Name = None\n",
    "        self.email = None\n",
    "        self.Order_cart = None\n",
    "        self.isPrime = 1\n",
    "        \n",
    "    def get_details(self):\n",
    "        self.uid = generate_id()\n",
    "        self.Name = input(\"Enter your name: \")\n",
    "        self.email = input(\"Enter e-mail address: \")\n",
    "        \n",
    "    def buy_items(self):\n",
    "        self.Order_cart = [i for i in input(\"Enter the items you'd like to order: \").split(', ')]\n",
    "        \n",
    "    def get_prime(self):\n",
    "        self.isPrime = 0"
   ]
  },
  {
   "cell_type": "code",
   "execution_count": 66,
   "metadata": {},
   "outputs": [],
   "source": [
    "user_list = []"
   ]
  },
  {
   "cell_type": "markdown",
   "metadata": {},
   "source": [
    "### Sorting on Prime | Non-Prime Delivery - Priority Queue"
   ]
  },
  {
   "cell_type": "code",
   "execution_count": 67,
   "metadata": {},
   "outputs": [],
   "source": [
    "def find_user_pos(new_user):     \n",
    "    user_count = len(user_list)\n",
    "    pos = 0\n",
    "    for i in range(user_count):                 #looping operation has Time Complexity: O(n)\n",
    "        if user_list[i].isPrime <= new_user.isPrime:\n",
    "            pos += 1\n",
    "    return pos"
   ]
  },
  {
   "cell_type": "code",
   "execution_count": 68,
   "metadata": {},
   "outputs": [
    {
     "name": "stdout",
     "output_type": "stream",
     "text": [
      "Enter your name: Anurag Sen\n",
      "Enter e-mail address: as5864@gmail.com\n",
      "Would you like to place orders?: yes\n",
      "Enter the items you'd like to order: Hp Laptop, Samsung m31\n",
      "Do you want to buy Prime and enjoy Prime benefits?: no\n",
      "Add more users?: yes\n",
      "\n",
      "\n",
      "Enter your name: Rahul Pandey\n",
      "Enter e-mail address: rahulpandey@gmail.com\n",
      "Would you like to place orders?: yes\n",
      "Enter the items you'd like to order: Iphone X, Gaming mouse\n",
      "Do you want to buy Prime and enjoy Prime benefits?: no\n",
      "Add more users?: yes\n",
      "\n",
      "\n",
      "Enter your name: Jeremy Johnson \n",
      "Enter e-mail address: JJ@gmail.com\n",
      "Would you like to place orders?: yes\n",
      "Enter the items you'd like to order: Power bank, jiofibre\n",
      "Do you want to buy Prime and enjoy Prime benefits?: no\n",
      "Add more users?: yes\n",
      "\n",
      "\n",
      "Enter your name: Ayush Kumar\n",
      "Enter e-mail address: Ayushk@gmail.com\n",
      "Would you like to place orders?: yes\n",
      "Enter the items you'd like to order: Notebook, Paintbrush\n",
      "Do you want to buy Prime and enjoy Prime benefits?: yes\n",
      "Add more users?: yes\n",
      "\n",
      "\n",
      "Enter your name: John Johnson\n",
      "Enter e-mail address: jj34@gmail.com\n",
      "Would you like to place orders?: yes\n",
      "Enter the items you'd like to order: Pillow Cover, Shoes\n",
      "Do you want to buy Prime and enjoy Prime benefits?: no\n",
      "Add more users?: yes\n",
      "\n",
      "\n",
      "Enter your name: Carl Johnson\n",
      "Enter e-mail address: cj69@gmail.com\n",
      "Would you like to place orders?: yes\n",
      "Enter the items you'd like to order: bigsmikebaseball bat, sweet OGF shirt\n",
      "Do you want to buy Prime and enjoy Prime benefits?: yes\n",
      "Add more users?: no\n",
      "\n",
      "\n"
     ]
    }
   ],
   "source": [
    "res = 'yes'\n",
    "while res == 'yes':\n",
    "    new_user = Amazon()\n",
    "    new_user.get_details()\n",
    "    \n",
    "    resp = input(\"Would you like to place orders?: \")\n",
    "    resp = resp.lower()\n",
    "    \n",
    "    if resp == 'yes':\n",
    "        new_user.buy_items()\n",
    "        \n",
    "    resp = input(\"Do you want to buy Prime and enjoy Prime benefits?: \")\n",
    "    resp = resp.lower()\n",
    "\n",
    "    if resp == 'yes':\n",
    "        new_user.get_prime()\n",
    "    \n",
    "    pos = find_user_pos(new_user)\n",
    "    user_list.insert(pos, new_user)\n",
    "    #user_list.append(new_user)\n",
    "        \n",
    "    res = input(\"Add more users?: \")\n",
    "    print(\"\\n\")\n",
    "    res = res.lower()\n",
    "    \n",
    "        \n",
    "    "
   ]
  },
  {
   "cell_type": "code",
   "execution_count": 69,
   "metadata": {},
   "outputs": [
    {
     "name": "stdout",
     "output_type": "stream",
     "text": [
      "[<__main__.Amazon object at 0x000001A738D52A60>, <__main__.Amazon object at 0x000001A738D276D0>, <__main__.Amazon object at 0x000001A738D52820>, <__main__.Amazon object at 0x000001A738D520A0>, <__main__.Amazon object at 0x000001A738D527F0>, <__main__.Amazon object at 0x000001A738D52970>]\n"
     ]
    }
   ],
   "source": [
    "print(user_list)"
   ]
  },
  {
   "cell_type": "code",
   "execution_count": 70,
   "metadata": {},
   "outputs": [
    {
     "name": "stdout",
     "output_type": "stream",
     "text": [
      "Delivery Order: \n",
      "Ayush Kumar 0 ['Notebook', 'Paintbrush']\n",
      "Carl Johnson 0 ['bigsmikebaseball bat', 'sweet OGF shirt']\n",
      "Anurag Sen 1 ['Hp Laptop', 'Samsung m31']\n",
      "Rahul Pandey 1 ['Iphone X', 'Gaming mouse']\n",
      "Jeremy Johnson  1 ['Power bank', 'jiofibre']\n",
      "John Johnson 1 ['Pillow Cover', 'Shoes']\n"
     ]
    }
   ],
   "source": [
    "print(\"Delivery Order: \")\n",
    "for i in user_list:\n",
    "    print(i.Name, i.isPrime, i.Order_cart)"
   ]
  },
  {
   "cell_type": "markdown",
   "metadata": {},
   "source": [
    "### Prime | Non-Prime Delivery - Priority Queue using Sorted function"
   ]
  },
  {
   "cell_type": "code",
   "execution_count": 71,
   "metadata": {},
   "outputs": [
    {
     "name": "stdout",
     "output_type": "stream",
     "text": [
      "Sorted Delivery orders: \n",
      "Ayush Kumar 0\n",
      "Carl Johnson 0\n",
      "Anurag Sen 1\n",
      "Rahul Pandey 1\n",
      "Jeremy Johnson  1\n",
      "John Johnson 1\n"
     ]
    }
   ],
   "source": [
    "user_list = sorted(user_list, key= lambda x: x.isPrime) #Sorting algorithms like Quick sort with Time complexity: O(nlogn)\n",
    "print(\"Sorted Delivery orders: \")\n",
    "for i in user_list:\n",
    "    print(i.Name, i.isPrime)"
   ]
  },
  {
   "cell_type": "markdown",
   "metadata": {},
   "source": [
    "### Conclusion "
   ]
  },
  {
   "cell_type": "code",
   "execution_count": 73,
   "metadata": {},
   "outputs": [
    {
     "name": "stdout",
     "output_type": "stream",
     "text": [
      "Hello Ayush Kumar (Customer ID: CR2171),\n",
      "Your order(s) ['Notebook', 'Paintbrush'] were confirmed on 13/04/2021 [Tuesday], at 23:20 and has been shipped under Prime delivery.\n",
      "\n",
      "\n",
      "Hello Carl Johnson (Customer ID: CI3809),\n",
      "Your order(s) ['bigsmikebaseball bat', 'sweet OGF shirt'] were confirmed on 13/04/2021 [Tuesday], at 23:20 and has been shipped under Prime delivery.\n",
      "\n",
      "\n",
      "Hello Anurag Sen (Customer ID: oQ4753),\n",
      "Your order(s) ['Hp Laptop', 'Samsung m31'] were confirmed on 13/04/2021 [Tuesday], at 23:20 and has been shipped.\n",
      "Switch to Prime and get your products delivered quicker!\n",
      "\n",
      "\n",
      "Hello Rahul Pandey (Customer ID: mq2553),\n",
      "Your order(s) ['Iphone X', 'Gaming mouse'] were confirmed on 13/04/2021 [Tuesday], at 23:20 and has been shipped.\n",
      "Switch to Prime and get your products delivered quicker!\n",
      "\n",
      "\n",
      "Hello Jeremy Johnson  (Customer ID: pu7982),\n",
      "Your order(s) ['Power bank', 'jiofibre'] were confirmed on 13/04/2021 [Tuesday], at 23:20 and has been shipped.\n",
      "Switch to Prime and get your products delivered quicker!\n",
      "\n",
      "\n",
      "Hello John Johnson (Customer ID: XS0391),\n",
      "Your order(s) ['Pillow Cover', 'Shoes'] were confirmed on 13/04/2021 [Tuesday], at 23:20 and has been shipped.\n",
      "Switch to Prime and get your products delivered quicker!\n",
      "\n",
      "\n"
     ]
    }
   ],
   "source": [
    "import datetime\n",
    "A = datetime.datetime.now()\n",
    "date = A.strftime(\"%d/%m/%Y\")\n",
    "time = A.strftime(\"%H:%M\")\n",
    "day = A.strftime(\"%A\")\n",
    "\n",
    "for i in user_list:\n",
    "    if i.isPrime == 0:\n",
    "        print(f\"Hello {i.Name} (Customer ID: {i.uid}),\")\n",
    "        print(f\"Your order(s) {i.Order_cart} were confirmed on {date} [{day}], at {time} and has been shipped under Prime delivery.\")\n",
    "        print(\"\\n\")\n",
    "    else:\n",
    "        print(f\"Hello {i.Name} (Customer ID: {i.uid}),\")\n",
    "        print(f\"Your order(s) {i.Order_cart} were confirmed on {date} [{day}], at {time} and has been shipped.\")\n",
    "        print(\"Switch to Prime and get your products delivered quicker!\")\n",
    "        print(\"\\n\")"
   ]
  },
  {
   "cell_type": "code",
   "execution_count": null,
   "metadata": {},
   "outputs": [],
   "source": []
  }
 ],
 "metadata": {
  "kernelspec": {
   "display_name": "Python 3",
   "language": "python",
   "name": "python3"
  },
  "language_info": {
   "codemirror_mode": {
    "name": "ipython",
    "version": 3
   },
   "file_extension": ".py",
   "mimetype": "text/x-python",
   "name": "python",
   "nbconvert_exporter": "python",
   "pygments_lexer": "ipython3",
   "version": "3.8.3"
  }
 },
 "nbformat": 4,
 "nbformat_minor": 4
}
